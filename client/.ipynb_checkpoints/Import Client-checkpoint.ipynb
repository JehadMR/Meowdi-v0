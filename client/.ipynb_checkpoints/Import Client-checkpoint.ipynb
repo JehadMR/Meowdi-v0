{
 "cells": [
  {
   "cell_type": "code",
   "execution_count": 1,
   "id": "b892d632",
   "metadata": {},
   "outputs": [],
   "source": [
    "from api_client_spotify import *\n"
   ]
  },
  {
   "cell_type": "code",
   "execution_count": 2,
   "id": "87fefd65",
   "metadata": {},
   "outputs": [],
   "source": [
    "client_id = '8b71e3cc473d48379da0ff1bcee2fcdc'\n",
    "client_secret = '038a7a28a772437ba70aceb8b7123cef'"
   ]
  },
  {
   "cell_type": "code",
   "execution_count": 3,
   "id": "a274977b",
   "metadata": {},
   "outputs": [],
   "source": [
    "client = SpotifyAPI(client_id, client_secret)"
   ]
  },
  {
   "cell_type": "code",
   "execution_count": 4,
   "id": "fc423052",
   "metadata": {},
   "outputs": [
    {
     "name": "stdout",
     "output_type": "stream",
     "text": [
      "q=Winter+Is+Blue+NOT+Neil+Gregory+Johnson&type=track\n"
     ]
    },
    {
     "data": {
      "text/plain": [
       "{'tracks': {'href': 'https://api.spotify.com/v1/search?query=Winter+Is+Blue+NOT+Neil+Gregory+Johnson&type=track&offset=0&limit=20',\n",
       "  'items': [],\n",
       "  'limit': 20,\n",
       "  'next': None,\n",
       "  'offset': 0,\n",
       "  'previous': None,\n",
       "  'total': 0}}"
      ]
     },
     "execution_count": 4,
     "metadata": {},
     "output_type": "execute_result"
    }
   ],
   "source": [
    "client.search(query='Winter Is Blue', operator='NOT', operator_query='Neil Gregory Johnson', search_type=\"track\")"
   ]
  }
 ],
 "metadata": {
  "kernelspec": {
   "display_name": "Python 3 (ipykernel)",
   "language": "python",
   "name": "python3"
  },
  "language_info": {
   "codemirror_mode": {
    "name": "ipython",
    "version": 3
   },
   "file_extension": ".py",
   "mimetype": "text/x-python",
   "name": "python",
   "nbconvert_exporter": "python",
   "pygments_lexer": "ipython3",
   "version": "3.10.5"
  }
 },
 "nbformat": 4,
 "nbformat_minor": 5
}
