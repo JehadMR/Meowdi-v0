{
 "cells": [
  {
   "cell_type": "code",
   "execution_count": 12,
   "id": "2c7f76ad",
   "metadata": {
    "scrolled": false
   },
   "outputs": [
    {
     "ename": "ModuleNotFoundError",
     "evalue": "No module named 'api_client_spotify'",
     "output_type": "error",
     "traceback": [
      "\u001b[1;31m---------------------------------------------------------------\u001b[0m",
      "\u001b[1;31mModuleNotFoundError\u001b[0m           Traceback (most recent call last)",
      "Input \u001b[1;32mIn [12]\u001b[0m, in \u001b[0;36m<cell line: 1>\u001b[1;34m()\u001b[0m\n\u001b[1;32m----> 1\u001b[0m \u001b[38;5;28;01mfrom\u001b[39;00m \u001b[38;5;21;01mapi_client_spotify\u001b[39;00m \u001b[38;5;28;01mimport\u001b[39;00m \u001b[38;5;241m*\u001b[39m\n",
      "\u001b[1;31mModuleNotFoundError\u001b[0m: No module named 'api_client_spotify'"
     ]
    }
   ],
   "source": [
    "from api_client_spotify import *\n"
   ]
  },
  {
   "cell_type": "code",
   "execution_count": null,
   "id": "67526b2b",
   "metadata": {},
   "outputs": [],
   "source": [
    "client_id = '8b71e3cc473d48379da0ff1bcee2fcdc'\n",
    "client_secret = '038a7a28a772437ba70aceb8b7123cef'"
   ]
  },
  {
   "cell_type": "code",
   "execution_count": null,
   "id": "53f9865e",
   "metadata": {},
   "outputs": [],
   "source": [
    "client.search(query='Winter Is Blue', operator='NOT', operator_query='Neil Gregory Johnson', search_type=\"track\")"
   ]
  }
 ],
 "metadata": {
  "kernelspec": {
   "display_name": "Python 3 (ipykernel)",
   "language": "python",
   "name": "python3"
  },
  "language_info": {
   "codemirror_mode": {
    "name": "ipython",
    "version": 3
   },
   "file_extension": ".py",
   "mimetype": "text/x-python",
   "name": "python",
   "nbconvert_exporter": "python",
   "pygments_lexer": "ipython3",
   "version": "3.10.5"
  }
 },
 "nbformat": 4,
 "nbformat_minor": 5
}
