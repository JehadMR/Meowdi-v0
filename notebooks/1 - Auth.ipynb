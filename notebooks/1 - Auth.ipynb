{
 "cells": [
  {
   "cell_type": "code",
   "execution_count": 1,
   "id": "1fcb828d",
   "metadata": {},
   "outputs": [
    {
     "name": "stdout",
     "output_type": "stream",
     "text": [
      "Requirement already satisfied: requests in c:\\users\\jehad\\.virtualenvs\\meowdi-v0-b0bmwkgo\\lib\\site-packages (2.28.0)\n",
      "Requirement already satisfied: idna<4,>=2.5 in c:\\users\\jehad\\.virtualenvs\\meowdi-v0-b0bmwkgo\\lib\\site-packages (from requests) (3.3)\n",
      "Requirement already satisfied: urllib3<1.27,>=1.21.1 in c:\\users\\jehad\\.virtualenvs\\meowdi-v0-b0bmwkgo\\lib\\site-packages (from requests) (1.26.9)\n",
      "Requirement already satisfied: certifi>=2017.4.17 in c:\\users\\jehad\\.virtualenvs\\meowdi-v0-b0bmwkgo\\lib\\site-packages (from requests) (2022.5.18.1)\n",
      "Requirement already satisfied: charset-normalizer~=2.0.0 in c:\\users\\jehad\\.virtualenvs\\meowdi-v0-b0bmwkgo\\lib\\site-packages (from requests) (2.0.12)\n"
     ]
    }
   ],
   "source": [
    "!pip install requests"
   ]
  },
  {
   "cell_type": "code",
   "execution_count": 2,
   "id": "0898d930",
   "metadata": {},
   "outputs": [],
   "source": [
    "import requests \n",
    "import datetime"
   ]
  },
  {
   "cell_type": "code",
   "execution_count": 3,
   "id": "12533b6f",
   "metadata": {},
   "outputs": [],
   "source": [
    "import base64"
   ]
  },
  {
   "cell_type": "code",
   "execution_count": 4,
   "id": "65816da2",
   "metadata": {},
   "outputs": [],
   "source": [
    "client_id = '8b71e3cc473d48379da0ff1bcee2fcdc'\n",
    "client_secret = '038a7a28a772437ba70aceb8b7123cef'\n"
   ]
  },
  {
   "cell_type": "code",
   "execution_count": 5,
   "id": "a4ea281e",
   "metadata": {},
   "outputs": [],
   "source": [
    "# do a lookup for a tokin\n",
    "# this token is for future requests"
   ]
  },
  {
   "cell_type": "code",
   "execution_count": 6,
   "id": "18d6e8cc",
   "metadata": {
    "scrolled": true
   },
   "outputs": [],
   "source": [
    "client_creds = f\"{client_id}:{client_secret}\""
   ]
  },
  {
   "cell_type": "code",
   "execution_count": 7,
   "id": "a588609d",
   "metadata": {},
   "outputs": [],
   "source": [
    "client_creds_b64 = base64.b64encode(client_creds.encode())\n",
    "\n"
   ]
  },
  {
   "cell_type": "code",
   "execution_count": 8,
   "id": "8939acf4",
   "metadata": {},
   "outputs": [],
   "source": [
    "token_url = \"https://accounts.spotify.com/api/token\"\n",
    "method = \"POST\"\n",
    "token_data = {\n",
    "    \"grant_type\": \"client_credentials\"\n",
    "}\n",
    "token_headers = {\n",
    "    \"Authorization\": f\"Basic {client_creds_b64.decode()}\" #<base64 encoded client_id:client_secret>\n",
    "    , \"Content-Type\": \"application/x-www-form-urlencoded\"\n",
    "}\n",
    "\n"
   ]
  },
  {
   "cell_type": "code",
   "execution_count": 15,
   "id": "ba42e50f",
   "metadata": {
    "scrolled": false
   },
   "outputs": [],
   "source": [
    "r = requests.post(token_url, data=token_data, headers=token_headers)\n",
    "valid_request = r.status_code in range(200, 299)\n",
    "\n"
   ]
  },
  {
   "cell_type": "code",
   "execution_count": 14,
   "id": "fc09837d",
   "metadata": {},
   "outputs": [],
   "source": [
    "if valid_request:\n",
    "    token_response_data = r.json()\n",
    "    now = datetime.datetime.now()\n",
    "    access_token = token_response_data['access_token']\n",
    "    expires_in = token_response_data['expires_in'] #in seconds\n",
    "    expires = now + datetime.timedelta(seconds=expires_in)\n",
    "    did_expire = expires < now\n",
    "    \n"
   ]
  }
 ],
 "metadata": {
  "kernelspec": {
   "display_name": "Python 3 (ipykernel)",
   "language": "python",
   "name": "python3"
  },
  "language_info": {
   "codemirror_mode": {
    "name": "ipython",
    "version": 3
   },
   "file_extension": ".py",
   "mimetype": "text/x-python",
   "name": "python",
   "nbconvert_exporter": "python",
   "pygments_lexer": "ipython3",
   "version": "3.10.5"
  }
 },
 "nbformat": 4,
 "nbformat_minor": 5
}
